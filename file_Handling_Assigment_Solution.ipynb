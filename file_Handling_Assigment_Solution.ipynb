{
 "cells": [
  {
   "cell_type": "markdown",
   "id": "301dcdbe-52b7-4512-b9ab-3afbb19b41d0",
   "metadata": {},
   "source": [
    "Q1. Which function is used to open a file? What are the different modes of opening a file? Explain each mode\n",
    "of file opening."
   ]
  },
  {
   "cell_type": "markdown",
   "id": "a61638a3-8c08-4e5f-8bf5-94add573917b",
   "metadata": {},
   "source": [
    "The open() function opens a file, and returns it as a file object.\n",
    "\n",
    "\"r\" - Read - Default value. Opens a file for reading, error if the file does not exist\n",
    "\n",
    "\"a\" - Append - Opens a file for appending, creates the file if it does not exist\n",
    "\n",
    "\"w\" - Write - Opens a file for writing, creates the file if it does not exist\n",
    "\n",
    "\"x\" - Create - Creates the specified file, returns an error if the file exist\n",
    "\n",
    "\"t\" - Text - Default value. Text mode\n",
    "\n",
    "\"b\" - Binary - Binary mode (e.g. images)"
   ]
  },
  {
   "cell_type": "markdown",
   "id": "48ea7d06-736b-4365-a8c2-0b788eb6ac1a",
   "metadata": {},
   "source": [
    "Q2. Why close() function is used? Why is it important to close a file?"
   ]
  },
  {
   "cell_type": "markdown",
   "id": "fc2d953a-35f5-4173-9e05-a452a8ff779c",
   "metadata": {},
   "source": [
    "The close() method of a file object flushes any unwritten information and closes the file object, after which no more writing can be done.\n",
    "its importance are as following : -\n",
    "(1) It is a matter of good programming practice. If you don't close them yourself, Python will eventually close them for you. In some versions of Python, that might be the instant they are no longer being used; in others, it might not happen for a long time. Under some circumstances, it might not happen at all.\n",
    "\n",
    "(2) When writing to a file, the data may not be written to disk until the file is closed. When you say \"output.write(...)\", the data is often cached in memory and doesn't hit the hard drive until the file is closed. The longer you keep the file open, the greater the chance that you will lose data.\n",
    "\n",
    "(3) Since your operating system has strict limits on how many file handles can be kept open at any one instant, it is best to get into the habit of closing them when they aren't needed and not wait for \"maid service\" to clean up after you.\n",
    "\n",
    "(4) Also, some operating systems (Windows, in particular) treat open files as locked and private. While you have a file open, no other program can also open it"
   ]
  },
  {
   "cell_type": "markdown",
   "id": "8cc0f83c-c4b6-46f5-9cd6-27fb6d04baba",
   "metadata": {},
   "source": [
    "Q3. Write a python program to create a text file. Write ‘I want to become a Data Scientist’ in that file. Then\n",
    "close the file. Open this file and read the content of the file."
   ]
  },
  {
   "cell_type": "code",
   "execution_count": 2,
   "id": "21328e9f-ff29-480d-98e1-563e5d764d44",
   "metadata": {},
   "outputs": [],
   "source": [
    "f = open('text.txt','w')\n",
    "f.write(\"I want to become Data scientist\")\n",
    "f.close()"
   ]
  },
  {
   "cell_type": "code",
   "execution_count": 3,
   "id": "d1115029-3ec5-4bcc-bf71-ccefce9084ce",
   "metadata": {},
   "outputs": [
    {
     "data": {
      "text/plain": [
       "'I want to become Data scientist'"
      ]
     },
     "execution_count": 3,
     "metadata": {},
     "output_type": "execute_result"
    }
   ],
   "source": [
    "f  = open('text.txt','r')\n",
    "f.read()"
   ]
  },
  {
   "cell_type": "markdown",
   "id": "334398d6-28d1-4c37-ad41-779fcf1eadb1",
   "metadata": {},
   "source": [
    "Q4. Explain the following with python code: read(), readline() and readlines()."
   ]
  },
  {
   "cell_type": "code",
   "execution_count": 33,
   "id": "0b2ae3a2-e7d8-4150-b693-95bb654e2565",
   "metadata": {},
   "outputs": [],
   "source": [
    "f1 = open('text1.txt','w')\n",
    "f1.write(\"Data Science aims to extract hidden patterns from unstructured data using a variety of algorithms, tools, and machine learning principles. It is used to make predictions and decisions using predictive causal analytics, machine learning, and prescriptive analytics. Data Science is becoming prominent over the years, and businesses have begun to use data science techniques to expand their operations and improve consumer satisfaction.\")\n",
    "f1.close()"
   ]
  },
  {
   "cell_type": "code",
   "execution_count": 36,
   "id": "188cbf24-4410-4f8a-8175-1918e50a1f00",
   "metadata": {},
   "outputs": [],
   "source": [
    "f1 = open('text1.txt','r')"
   ]
  },
  {
   "cell_type": "code",
   "execution_count": 40,
   "id": "28c6ce88-15be-465e-93fd-2814ed43688d",
   "metadata": {},
   "outputs": [
    {
     "data": {
      "text/plain": [
       "'Data Science aims to extract hidden patterns from unstructured data using a variety of algorithms, tools, and machine learning principles. It is used to make predictions and decisions using predictive causal analytics, machine learning, and prescriptive analytics. Data Science is becoming prominent over the years, and businesses have begun to use data science techniques to expand their operations and improve consumer satisfaction.'"
      ]
     },
     "execution_count": 40,
     "metadata": {},
     "output_type": "execute_result"
    }
   ],
   "source": [
    "f1.read()"
   ]
  },
  {
   "cell_type": "code",
   "execution_count": 60,
   "id": "b7286bc2-5423-4971-bdfb-ea07bdb08c04",
   "metadata": {},
   "outputs": [
    {
     "data": {
      "text/plain": [
       "0"
      ]
     },
     "execution_count": 60,
     "metadata": {},
     "output_type": "execute_result"
    }
   ],
   "source": [
    "f1.seek(0)"
   ]
  },
  {
   "cell_type": "code",
   "execution_count": 58,
   "id": "98f67e11-d8cd-47b5-a233-bfa259b0629a",
   "metadata": {},
   "outputs": [
    {
     "data": {
      "text/plain": [
       "'ms to extract hidden patterns from unstructured data using a variety of algorithms, tools, and machine learning principles. It is used to make predictions and decisions using predictive causal analytics, machine learning, and prescriptive analytics. Data Science is becoming prominent over the years, and businesses have begun to use data science techniques to expand their operations and improve consumer satisfaction.'"
      ]
     },
     "execution_count": 58,
     "metadata": {},
     "output_type": "execute_result"
    }
   ],
   "source": [
    "f1.readline()"
   ]
  },
  {
   "cell_type": "code",
   "execution_count": 61,
   "id": "8cf9b366-b7ff-457c-b8d3-1dd4eab3c07f",
   "metadata": {},
   "outputs": [
    {
     "data": {
      "text/plain": [
       "['Data Science aims to extract hidden patterns from unstructured data using a variety of algorithms, tools, and machine learning principles. It is used to make predictions and decisions using predictive causal analytics, machine learning, and prescriptive analytics. Data Science is becoming prominent over the years, and businesses have begun to use data science techniques to expand their operations and improve consumer satisfaction.']"
      ]
     },
     "execution_count": 61,
     "metadata": {},
     "output_type": "execute_result"
    }
   ],
   "source": [
    "f1.readlines()"
   ]
  },
  {
   "cell_type": "markdown",
   "id": "d8a80af2-27dc-4cdc-a87e-7a5f2e5f963e",
   "metadata": {},
   "source": [
    "The read() method returns the specified number of bytes from the file. Default is -1 which means the whole file.\n",
    "\n",
    "The readline method takes one parameter i.e size, the default value for the size parameter is -1. It means that the method will return the whole line. It is an optional parameter, we can specify the number of bytes from a line to return.\n",
    "\n",
    "The readlines method takes one parameter i.e hint, the default value for the hint parameter is -1. It means that the method will return all the lines. If we specify the hint parameter, the lines exceeding the number of bytes from the hint parameter will not be returned by the readlines method"
   ]
  },
  {
   "cell_type": "markdown",
   "id": "c6e4420a-5282-43fc-adbe-ffcf1adc10a1",
   "metadata": {},
   "source": [
    "Q5. Explain why with statement is used with open(). What is the advantage of using with statement and\n",
    "open() together?"
   ]
  },
  {
   "cell_type": "markdown",
   "id": "8d6a3106-6f89-449b-ae05-757093889e81",
   "metadata": {},
   "source": [
    "It means when we used “with statement” with open() function, an execution blocked started and the file object returned by open() function is assigned to file_object. When this execution block of “with statement” end, then the file object’s close function gets called automatically, and the file will be closed gracefully\n",
    "Fewer chances of bug due to coding error"
   ]
  },
  {
   "cell_type": "markdown",
   "id": "06da9fbb-52b1-4a14-a71d-84e1454ecd06",
   "metadata": {},
   "source": [
    "Q6. Explain the write() and writelines() functions. Give a suitable example."
   ]
  },
  {
   "cell_type": "markdown",
   "id": "2d51dce1-9b3a-4cc1-8865-c6b494f5b8fc",
   "metadata": {},
   "source": [
    "The write() method writes a specified text to the file.\n",
    "\n",
    "Where the specified text will be inserted depends on the file mode and stream position.\n",
    "\n",
    "\"a\":  The text will be inserted at the current file stream position, default at the end of the file.\n",
    "\n",
    "\"w\": The file will be emptied before the text will be inserted at the current file stream position, default 0."
   ]
  },
  {
   "cell_type": "markdown",
   "id": "7d95e9e2-75fb-4a7f-95e1-8e50bd1b32f4",
   "metadata": {},
   "source": [
    "The writelines() method writes the items of a list to the file.\n",
    "\n",
    "Where the texts will be inserted depends on the file mode and stream position.\n",
    "\n",
    "\"a\":  The texts will be inserted at the current file stream position, default at the end of the file.\n",
    "\n",
    "\"w\": The file will be emptied before the texts will be inserted at the current file stream position, default 0."
   ]
  },
  {
   "cell_type": "code",
   "execution_count": 63,
   "id": "f955dfe9-4755-4282-b890-0ae12c5e7283",
   "metadata": {},
   "outputs": [],
   "source": [
    "f2 = open(\"text2.txt\",'w')\n",
    "f2.write(\"this is write\")\n",
    "f2.close()"
   ]
  },
  {
   "cell_type": "code",
   "execution_count": 64,
   "id": "09d7ce0d-5ca8-4aa3-a446-03aa6df91a40",
   "metadata": {},
   "outputs": [
    {
     "name": "stdout",
     "output_type": "stream",
     "text": [
      "this is write\n"
     ]
    }
   ],
   "source": [
    "with open(\"text2.txt\",'r') as f3 :\n",
    "    print(f3.read())"
   ]
  },
  {
   "cell_type": "code",
   "execution_count": 70,
   "id": "58edf52e-6280-4343-baea-9ba0191bb627",
   "metadata": {},
   "outputs": [],
   "source": [
    "f4 = open(\"text2.txt\",'w')\n",
    "f4.writelines([\"this is new list\"])\n",
    "f4.close()"
   ]
  },
  {
   "cell_type": "code",
   "execution_count": 71,
   "id": "75ba0aff-510e-4d8f-bead-8f1573a660fd",
   "metadata": {},
   "outputs": [
    {
     "name": "stdout",
     "output_type": "stream",
     "text": [
      "this is new list\n"
     ]
    }
   ],
   "source": [
    "with open(\"text2.txt\",'r') as f4 :\n",
    "    print(f4.read())"
   ]
  },
  {
   "cell_type": "code",
   "execution_count": null,
   "id": "b0f62dc3-63bf-46c4-ada4-1a6352a88af4",
   "metadata": {},
   "outputs": [],
   "source": []
  }
 ],
 "metadata": {
  "kernelspec": {
   "display_name": "Python 3 (ipykernel)",
   "language": "python",
   "name": "python3"
  },
  "language_info": {
   "codemirror_mode": {
    "name": "ipython",
    "version": 3
   },
   "file_extension": ".py",
   "mimetype": "text/x-python",
   "name": "python",
   "nbconvert_exporter": "python",
   "pygments_lexer": "ipython3",
   "version": "3.10.8"
  }
 },
 "nbformat": 4,
 "nbformat_minor": 5
}

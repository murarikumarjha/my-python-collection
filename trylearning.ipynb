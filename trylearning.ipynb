{
 "cells": [
  {
   "cell_type": "code",
   "execution_count": 1,
   "id": "f8e52c02-dd9e-4944-af62-7fc55bde6b91",
   "metadata": {},
   "outputs": [],
   "source": [
    "file = open(\"geek.txt\",'x')"
   ]
  },
  {
   "cell_type": "code",
   "execution_count": 2,
   "id": "782636cb-a1b4-4882-ab3b-0d22100a6784",
   "metadata": {},
   "outputs": [],
   "source": [
    "file = open(\"geek.txt\",'w')"
   ]
  },
  {
   "cell_type": "code",
   "execution_count": 7,
   "id": "782c55bd-b7be-4bac-90db-58d0db379540",
   "metadata": {},
   "outputs": [
    {
     "data": {
      "text/plain": [
       "232"
      ]
     },
     "execution_count": 7,
     "metadata": {},
     "output_type": "execute_result"
    }
   ],
   "source": [
    "file.write(\"A 360-degree Learning experience designed for geeks who wish to get hands-on Data Science. Mentored by industry experts; learn to apply DS methods and techniques, and acquire analytical skills. So Master the Art of Data Science Now!\")"
   ]
  },
  {
   "cell_type": "code",
   "execution_count": 9,
   "id": "7d8a1302-9163-4fc1-bd3d-bc391cc3df2a",
   "metadata": {},
   "outputs": [],
   "source": [
    "file.close()"
   ]
  },
  {
   "cell_type": "code",
   "execution_count": 13,
   "id": "7fca88df-418d-4e51-a336-c7a203271800",
   "metadata": {},
   "outputs": [
    {
     "name": "stdout",
     "output_type": "stream",
     "text": [
      "A 360-degree Learning experience designed for geeks who wish to get hands-on Data Science. Mentored by industry experts; learn to apply DS methods and techniques, and acquire analytical skills. So Master the Art of Data Science Now!A 360-degree Learning experience designed for geeks who wish to get hands-on Data Science. Mentored by industry experts; learn to apply DS methods and techniques, and acquire analytical skills. So Master the Art of Data Science Now!\n"
     ]
    }
   ],
   "source": [
    "with open(\"geek.txt\",'r') as f:\n",
    "    data = f.read()\n",
    "    print(data)"
   ]
  },
  {
   "cell_type": "code",
   "execution_count": 15,
   "id": "e7ed7844-68ad-4c9f-9838-ebd65db86792",
   "metadata": {},
   "outputs": [],
   "source": [
    "file = open(\"geek.txt\",'r')"
   ]
  },
  {
   "cell_type": "code",
   "execution_count": 16,
   "id": "4c32d773-621e-48c9-89d9-46302c372b78",
   "metadata": {},
   "outputs": [
    {
     "data": {
      "text/plain": [
       "'A 360-degree Learning experience designed for geeks who wish to get hands-on Data Science. Mentored by industry experts; learn to apply DS methods and techniques, and acquire analytical skills. So Master the Art of Data Science Now!A 360-degree Learning experience designed for geeks who wish to get hands-on Data Science. Mentored by industry experts; learn to apply DS methods and techniques, and acquire analytical skills. So Master the Art of Data Science Now!'"
      ]
     },
     "execution_count": 16,
     "metadata": {},
     "output_type": "execute_result"
    }
   ],
   "source": [
    "file.read()"
   ]
  },
  {
   "cell_type": "code",
   "execution_count": 17,
   "id": "45b04d59-7753-4043-9a78-9a00926ba65f",
   "metadata": {},
   "outputs": [
    {
     "data": {
      "text/plain": [
       "''"
      ]
     },
     "execution_count": 17,
     "metadata": {},
     "output_type": "execute_result"
    }
   ],
   "source": [
    "file.readline()"
   ]
  },
  {
   "cell_type": "code",
   "execution_count": 20,
   "id": "43cb982a-a627-4a33-8f9a-aaf15fcb777b",
   "metadata": {},
   "outputs": [
    {
     "data": {
      "text/plain": [
       "34"
      ]
     },
     "execution_count": 20,
     "metadata": {},
     "output_type": "execute_result"
    }
   ],
   "source": [
    "file.seek(34)"
   ]
  },
  {
   "cell_type": "code",
   "execution_count": 21,
   "id": "984d47de-e975-4592-9eb8-22693fc76a44",
   "metadata": {},
   "outputs": [
    {
     "data": {
      "text/plain": [
       "'esigned for geeks who wish to get hands-on Data Science. Mentored by industry experts; learn to apply DS methods and techniques, and acquire analytical skills. So Master the Art of Data Science Now!A 360-degree Learning experience designed for geeks who wish to get hands-on Data Science. Mentored by industry experts; learn to apply DS methods and techniques, and acquire analytical skills. So Master the Art of Data Science Now!'"
      ]
     },
     "execution_count": 21,
     "metadata": {},
     "output_type": "execute_result"
    }
   ],
   "source": [
    "file.readline()"
   ]
  },
  {
   "cell_type": "code",
   "execution_count": 22,
   "id": "3aa2629f-a7d1-4337-9356-11ebf64f2efc",
   "metadata": {},
   "outputs": [],
   "source": [
    "import os"
   ]
  },
  {
   "cell_type": "code",
   "execution_count": 25,
   "id": "48186631-5281-4562-a120-3265fa11cd21",
   "metadata": {},
   "outputs": [
    {
     "data": {
      "text/plain": [
       "464"
      ]
     },
     "execution_count": 25,
     "metadata": {},
     "output_type": "execute_result"
    }
   ],
   "source": [
    "os.path.getsize('geek.txt')"
   ]
  },
  {
   "cell_type": "code",
   "execution_count": 26,
   "id": "19eee44c-226a-4cd1-b063-5e5b64df07d4",
   "metadata": {},
   "outputs": [],
   "source": [
    "os.remove('geek.txt')"
   ]
  },
  {
   "cell_type": "code",
   "execution_count": 29,
   "id": "5f464740-502a-4708-97e1-0b2a427e3f4b",
   "metadata": {},
   "outputs": [],
   "source": [
    "f = open('geek2.txt','x')"
   ]
  },
  {
   "cell_type": "code",
   "execution_count": 30,
   "id": "046274c1-929a-4bc2-8fba-247b5bdaa785",
   "metadata": {},
   "outputs": [],
   "source": [
    "os.rename('geek2.txt','new_geek.txt')S"
   ]
  },
  {
   "cell_type": "code",
   "execution_count": 31,
   "id": "87efded4-0923-4f29-9711-5a355c8a90e1",
   "metadata": {},
   "outputs": [],
   "source": [
    "import shutil"
   ]
  },
  {
   "cell_type": "code",
   "execution_count": 32,
   "id": "2d77e8e9-fcc5-45ad-9ebd-69fed826b2af",
   "metadata": {},
   "outputs": [
    {
     "data": {
      "text/plain": [
       "'new_copy_geek.txt'"
      ]
     },
     "execution_count": 32,
     "metadata": {},
     "output_type": "execute_result"
    }
   ],
   "source": [
    "shutil.copy(\"new_geek.txt\",'new_copy_geek.txt')"
   ]
  },
  {
   "cell_type": "code",
   "execution_count": 33,
   "id": "3b19fe35-706b-452f-9258-05d4dabc3856",
   "metadata": {},
   "outputs": [],
   "source": [
    "with open('new_geek.txt','w') as f:\n",
    "    f.write(\"Master the skills of Machine Learning & Artificial Intelligence with this advanced Data Science and Artificial Intelligence by IITM Pravartak (A Technology Innovation Hub of IIT Madras) & Intellipaat. You will get to learn from the IIT Madras faculty & industry experts with 1:1 mentorship in this intensive online bootcamp.\")"
   ]
  },
  {
   "cell_type": "code",
   "execution_count": 34,
   "id": "aeff6f25-26b7-4208-87fd-ca6ffca37849",
   "metadata": {},
   "outputs": [],
   "source": [
    "f= open(\"new_geek.txt\",'r')"
   ]
  },
  {
   "cell_type": "code",
   "execution_count": 35,
   "id": "f528903d-77bd-415c-84f7-945b6902785c",
   "metadata": {},
   "outputs": [
    {
     "data": {
      "text/plain": [
       "'Master the skills of Machine Learning & Artificial Intelligence with this advanced Data Science and Artificial Intelligence by IITM Pravartak (A Technology Innovation Hub of IIT Madras) & Intellipaat. You will get to learn from the IIT Madras faculty & industry experts with 1:1 mentorship in this intensive online bootcamp.'"
      ]
     },
     "execution_count": 35,
     "metadata": {},
     "output_type": "execute_result"
    }
   ],
   "source": [
    "f.read()"
   ]
  },
  {
   "cell_type": "code",
   "execution_count": null,
   "id": "4f15a2ea-9807-467a-8b58-0e5989bf500d",
   "metadata": {},
   "outputs": [],
   "source": []
  }
 ],
 "metadata": {
  "kernelspec": {
   "display_name": "Python 3 (ipykernel)",
   "language": "python",
   "name": "python3"
  },
  "language_info": {
   "codemirror_mode": {
    "name": "ipython",
    "version": 3
   },
   "file_extension": ".py",
   "mimetype": "text/x-python",
   "name": "python",
   "nbconvert_exporter": "python",
   "pygments_lexer": "ipython3",
   "version": "3.10.8"
  }
 },
 "nbformat": 4,
 "nbformat_minor": 5
}
